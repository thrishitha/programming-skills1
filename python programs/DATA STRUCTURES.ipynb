{
 "cells": [
  {
   "cell_type": "markdown",
   "metadata": {},
   "source": [
    "#Binary search"
   ]
  },
  {
   "cell_type": "code",
   "execution_count": 5,
   "metadata": {},
   "outputs": [
    {
     "name": "stdout",
     "output_type": "stream",
     "text": [
      "Item is not found\n"
     ]
    }
   ],
   "source": [
    "def binarysearch(a,lindex,rindex,taritem):\n",
    "    while lindex <= rindex:\n",
    "        mindex = lindex + (rindex-lindex)//2;\n",
    "        if a[mindex] == taritem:\n",
    "            return mindex\n",
    "        if a[mindex] > taritem:\n",
    "            rindex = mindex - 1\n",
    "        else:\n",
    "                lindex = mindex + 1\n",
    "        return -1\n",
    "list1= [1,4,9,15,25,45,57,88,98]\n",
    "res=binarysearch(list1,0,8,818)\n",
    "if res != -1:\n",
    "    print(\"Item is found\")\n",
    "else:\n",
    "    print(\"Item is not found\")"
   ]
  },
  {
   "cell_type": "markdown",
   "metadata": {},
   "source": [
    "##BUBBLE SORt"
   ]
  },
  {
   "cell_type": "code",
   "execution_count": 7,
   "metadata": {},
   "outputs": [
    {
     "name": "stdout",
     "output_type": "stream",
     "text": [
      "1 3 6 18 19 25 "
     ]
    }
   ],
   "source": [
    "def bubblesort(a):\n",
    "    for i in range(len(a)-1):\n",
    "        for j in range(len(a)-1):\n",
    "            if a[j] > a[j+1]:\n",
    "                a[j],a[j+1] = a[j+1],a[j]\n",
    "                                \n",
    "    for i in range(len(a)):\n",
    "        print(a[i],end=\" \")\n",
    "                                \n",
    "lst1 = [19,1,25,6,18,3]\n",
    "bubblesort(lst1)"
   ]
  },
  {
   "cell_type": "markdown",
   "metadata": {},
   "source": [
    "##creating a String"
   ]
  },
  {
   "cell_type": "code",
   "execution_count": 8,
   "metadata": {},
   "outputs": [
    {
     "name": "stdout",
     "output_type": "stream",
     "text": [
      "Application\n",
      "Application\n",
      " Application Test\n",
      "           working\n",
      "           Completed\n",
      "           List\n",
      "           Strings\n",
      "           Python  \n"
     ]
    }
   ],
   "source": [
    "str =\"Application\"\n",
    "print(str)\n",
    "\n",
    "str1= 'Application'\n",
    "print(str1)\n",
    "\n",
    "str2 = \"\"\" Application Test\n",
    "           working\n",
    "           Completed\n",
    "           List\n",
    "           Strings\n",
    "           Python  \"\"\"\n",
    "print(str2)"
   ]
  },
  {
   "cell_type": "code",
   "execution_count": 9,
   "metadata": {},
   "outputs": [
    {
     "name": "stdout",
     "output_type": "stream",
     "text": [
      "Application\n",
      "str[0] =  A\n",
      "str[1] = p\n",
      "str[-1] = n\n",
      "str[-3] = i\n",
      "str[1:5] = ppli\n",
      "str[:5]= Appli\n",
      "str[5:-2]= cati\n",
      "str[::-1]= noitacilppA\n"
     ]
    }
   ],
   "source": [
    "str =\"Application\"\n",
    "print(str)\n",
    "print(\"str[0] = \",str[0])\n",
    "print(\"str[1] =\",str[1])\n",
    "print(\"str[-1] =\",str[-1])\n",
    "print(\"str[-3] =\",str[-3])\n",
    "print(\"str[1:5] =\", str[1:5])\n",
    "print(\"str[:5]=\", str[:5])\n",
    "print(\"str[5:-2]=\",str[5:-2])\n",
    "print(\"str[::-1]=\",str[::-1])"
   ]
  },
  {
   "cell_type": "markdown",
   "metadata": {},
   "source": [
    "# Count the Digits or Numbers - string len function"
   ]
  },
  {
   "cell_type": "code",
   "execution_count": 1,
   "metadata": {},
   "outputs": [
    {
     "data": {
      "text/plain": [
       "11"
      ]
     },
     "execution_count": 1,
     "metadata": {},
     "output_type": "execute_result"
    }
   ],
   "source": [
    "def countofchars(str):\n",
    "    return len(str)\n",
    "countofchars(\"application\")"
   ]
  },
  {
   "cell_type": "code",
   "execution_count": 2,
   "metadata": {},
   "outputs": [
    {
     "data": {
      "text/plain": [
       "5"
      ]
     },
     "execution_count": 2,
     "metadata": {},
     "output_type": "execute_result"
    }
   ],
   "source": [
    "def countdigits(n):\n",
    "    return len(n)\n",
    "\n",
    "countdigits(\"25410\")"
   ]
  },
  {
   "cell_type": "markdown",
   "metadata": {},
   "source": [
    "# lets take a string- convert th string to upper case"
   ]
  },
  {
   "cell_type": "code",
   "execution_count": 6,
   "metadata": {},
   "outputs": [
    {
     "name": "stdout",
     "output_type": "stream",
     "text": [
      "2\n",
      "4\n"
     ]
    }
   ],
   "source": [
    "def countuppercase(str):\n",
    "    cnt=0\n",
    "    lst = list(str)\n",
    "    for x in range(len(lst)):\n",
    "        if ord(lst[x]) >= 65  and ord(lst[x]) <=90:\n",
    "            cnt =cnt + 1\n",
    "    return cnt\n",
    "\n",
    "print(countuppercase(\"AppLication\"))\n",
    "print(countuppercase(\"TEST\"))"
   ]
  },
  {
   "cell_type": "code",
   "execution_count": 5,
   "metadata": {},
   "outputs": [
    {
     "data": {
      "text/plain": [
       "9"
      ]
     },
     "execution_count": 5,
     "metadata": {},
     "output_type": "execute_result"
    }
   ],
   "source": [
    "def countuppercase(str):\n",
    "    return len(str)\n",
    "countuppercase(\"abcABC123\")"
   ]
  },
  {
   "cell_type": "markdown",
   "metadata": {},
   "source": [
    "# string-convert-list--len of the list"
   ]
  },
  {
   "cell_type": "code",
   "execution_count": 17,
   "metadata": {},
   "outputs": [
    {
     "name": "stdout",
     "output_type": "stream",
     "text": [
      "3\n",
      "5\n",
      "5\n"
     ]
    }
   ],
   "source": [
    "def countuppercase(str):\n",
    "    cnt=0\n",
    "    lst = list(str)\n",
    "    for x in range(len(lst)):\n",
    "        if ord(lst[x]) >=65  and  ord(lst[x]) <=90:\n",
    "            cnt = cnt + 1\n",
    "    return cnt\n",
    "def countlowercase(str):\n",
    "    cnt=0\n",
    "    lst = list(str)\n",
    "    for y in range(len(lst)):\n",
    "        if ord(lst[y]) >=97  and ord(lst[y]) <=122:\n",
    "            cnt = cnt + 1\n",
    "    return cnt\n",
    "def countdigits(str):\n",
    "    cnt=0\n",
    "    lst = list(str)\n",
    "    for z in range(len(lst)):\n",
    "        if ord(lst[z]) >=48  and ord(lst[z]) <=57:\n",
    "            cnt = cnt + 1\n",
    "    return cnt\n",
    "\n",
    "print(countuppercase(\"abcABC123\"))\n",
    "print(countlowercase(\"abcdeABC123\"))\n",
    "print(countdigits(\"abc12345\"))"
   ]
  },
  {
   "cell_type": "code",
   "execution_count": 14,
   "metadata": {},
   "outputs": [
    {
     "name": "stdout",
     "output_type": "stream",
     "text": [
      "ANANDKUMAR\n"
     ]
    }
   ],
   "source": [
    "s=(\"anandkumar\")\n",
    "print(s.upper())"
   ]
  },
  {
   "cell_type": "code",
   "execution_count": 26,
   "metadata": {},
   "outputs": [
    {
     "name": "stdout",
     "output_type": "stream",
     "text": [
      "1\n",
      "2\n",
      "3\n",
      "4\n",
      "5\n"
     ]
    }
   ],
   "source": [
    "def countdigits(str):\n",
    "    lst = list(str)\n",
    "    for x in range(len(lst)):\n",
    "        if ord(lst[x]) >=48 and ord(lst[x])  <=57:\n",
    "            print(lst[x])\n",
    "        \n",
    "countdigits(\"abc12345A\")"
   ]
  },
  {
   "cell_type": "code",
   "execution_count": 27,
   "metadata": {},
   "outputs": [
    {
     "data": {
      "text/plain": [
       "26"
      ]
     },
     "execution_count": 27,
     "metadata": {},
     "output_type": "execute_result"
    }
   ],
   "source": [
    "def sumofdigits(str):\n",
    "    sum = 0\n",
    "    lst = list(str)\n",
    "    for x in range(len(lst)):\n",
    "        if ord(lst[x]) >= 48  and  ord(lst[x])  <=57:\n",
    "            sum = sum + ord(lst[x]) -48;\n",
    "            \n",
    "    return sum\n",
    "sumofdigits(\"Application1889\")"
   ]
  },
  {
   "cell_type": "code",
   "execution_count": 30,
   "metadata": {},
   "outputs": [
    {
     "data": {
      "text/plain": [
       "16"
      ]
     },
     "execution_count": 30,
     "metadata": {},
     "output_type": "execute_result"
    }
   ],
   "source": [
    "def sumofevendigits(str):\n",
    "    sum=0\n",
    "    lst = list(str)\n",
    "    for x in lst:\n",
    "        if ord(x) >= 48  and  ord(x) <= 57:\n",
    "            if int(x)%2==0:\n",
    "                sum = sum+int(x);\n",
    "    return sum\n",
    "sumofevendigits(\"application1889\")"
   ]
  },
  {
   "cell_type": "code",
   "execution_count": 31,
   "metadata": {},
   "outputs": [
    {
     "data": {
      "text/plain": [
       "30"
      ]
     },
     "execution_count": 31,
     "metadata": {},
     "output_type": "execute_result"
    }
   ],
   "source": [
    "def sumofevendigits(str):\n",
    "    sum=0\n",
    "    lst =list(str)\n",
    "    for x in lst:\n",
    "        if ord(x) >= 48  and  ord(x) <= 57:\n",
    "            if int(x)%2==0:\n",
    "                sum = sum+int(x);\n",
    "    return sum\n",
    "sumofevendigits(\"te124844HEHD326\")"
   ]
  },
  {
   "cell_type": "markdown",
   "metadata": {},
   "source": [
    "# string character conversion "
   ]
  },
  {
   "cell_type": "code",
   "execution_count": null,
   "metadata": {},
   "outputs": [],
   "source": []
  }
 ],
 "metadata": {
  "kernelspec": {
   "display_name": "Python 3",
   "language": "python",
   "name": "python3"
  },
  "language_info": {
   "codemirror_mode": {
    "name": "ipython",
    "version": 3
   },
   "file_extension": ".py",
   "mimetype": "text/x-python",
   "name": "python",
   "nbconvert_exporter": "python",
   "pygments_lexer": "ipython3",
   "version": "3.7.3"
  }
 },
 "nbformat": 4,
 "nbformat_minor": 2
}
